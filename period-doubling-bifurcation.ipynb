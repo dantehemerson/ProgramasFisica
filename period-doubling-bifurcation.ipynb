{
  "nbformat": 4,
  "nbformat_minor": 0,
  "metadata": {
    "colab": {
      "name": "Untitled0.ipynb",
      "provenance": [],
      "authorship_tag": "ABX9TyOLsxwodfE0Ku3VIekybQvL",
      "include_colab_link": true
    },
    "kernelspec": {
      "name": "python3",
      "display_name": "Python 3"
    }
  },
  "cells": [
    {
      "cell_type": "markdown",
      "metadata": {
        "id": "view-in-github",
        "colab_type": "text"
      },
      "source": [
        "<a href=\"https://colab.research.google.com/github/dantehemerson/solar-system/blob/master/period-doubling-bifurcation.ipynb\" target=\"_parent\"><img src=\"https://colab.research.google.com/assets/colab-badge.svg\" alt=\"Open In Colab\"/></a>"
      ]
    },
    {
      "cell_type": "markdown",
      "metadata": {
        "id": "B_LdgAOiOh7B"
      },
      "source": [
        "# Period-doubling bifurcation\n",
        "\n",
        "> This code is inpired on this youtube video: https://www.youtube.com/watch?v=ovJcsL7vyrk\n",
        "\n",
        "### Resources\n",
        "\n",
        "* https://en.wikipedia.org/wiki/Period-doubling_bifurcation\n"
      ]
    },
    {
      "cell_type": "code",
      "metadata": {
        "colab": {
          "base_uri": "https://localhost:8080/"
        },
        "id": "2Zx5EABxOcvb",
        "outputId": "93cc2899-3c56-4d19-c6f2-dc7dde4e4c57"
      },
      "source": [
        ""
      ],
      "execution_count": 1,
      "outputs": [
        {
          "output_type": "stream",
          "text": [
            "hola\n"
          ],
          "name": "stdout"
        }
      ]
    }
  ]
}